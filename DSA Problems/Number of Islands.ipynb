{
 "cells": [
  {
   "cell_type": "markdown",
   "id": "8ece507c",
   "metadata": {},
   "source": [
    "## Problem Link\n",
    "https://leetcode.com/problems/number-of-islands"
   ]
  },
  {
   "cell_type": "code",
   "execution_count": 1,
   "id": "84bdd695",
   "metadata": {},
   "outputs": [],
   "source": [
    "from collections import deque\n",
    "from typing import List\n",
    "\n",
    "class Solution:\n",
    "    def mark_island_as_visited(self, grid: List[List[str]], visited: List[List[bool]], i: int, j: int):\n",
    "        stack = deque()\n",
    "        stack.append((i, j))\n",
    "        num_rows = len(grid)\n",
    "        num_cols = len(grid[0])\n",
    "\n",
    "        while stack:\n",
    "            i, j = stack.pop()\n",
    "            visited[i][j] = True\n",
    "            for dr, dc in [(0, 1), (0, -1), (1, 0), (-1, 0)]:\n",
    "                r = i + dr\n",
    "                c = j + dc\n",
    "                if 0 <= r < num_rows and 0 <= c < num_cols and grid[r][c] == '1' and not visited[r][c]:\n",
    "                    stack.append((r, c))\n",
    "\n",
    "    def numIslands(self, grid: List[List[str]]) -> int:\n",
    "        num_rows = len(grid)\n",
    "        num_cols = len(grid[0])\n",
    "\n",
    "        visited = [[False] * num_cols for i in range(num_rows)]\n",
    "        island_count = 0\n",
    "\n",
    "        for i in range(num_rows):\n",
    "            for j in range(num_cols):\n",
    "                if not visited[i][j] and grid[i][j] == '1':\n",
    "                    island_count += 1\n",
    "                    self.mark_island_as_visited(grid, visited, i, j)\n",
    "        \n",
    "        return island_count\n"
   ]
  },
  {
   "cell_type": "code",
   "execution_count": 2,
   "id": "948dc71f",
   "metadata": {},
   "outputs": [],
   "source": [
    "solution = Solution()\n"
   ]
  },
  {
   "cell_type": "code",
   "execution_count": 3,
   "id": "5598817f",
   "metadata": {},
   "outputs": [
    {
     "name": "stdout",
     "output_type": "stream",
     "text": [
      "1\n"
     ]
    }
   ],
   "source": [
    "grid = [[\"1\",\"1\",\"1\",\"1\",\"0\"],\n",
    "        [\"1\",\"1\",\"0\",\"1\",\"0\"],\n",
    "        [\"1\",\"1\",\"0\",\"0\",\"0\"],\n",
    "        [\"0\",\"0\",\"0\",\"0\",\"0\"]]\n",
    "\n",
    "print(solution.numIslands(grid))"
   ]
  },
  {
   "cell_type": "code",
   "execution_count": 4,
   "id": "3bd9a94b",
   "metadata": {},
   "outputs": [
    {
     "name": "stdout",
     "output_type": "stream",
     "text": [
      "3\n"
     ]
    }
   ],
   "source": [
    "grid = [[\"1\",\"1\",\"0\",\"0\",\"0\"],\n",
    "        [\"1\",\"1\",\"0\",\"0\",\"0\"],\n",
    "        [\"0\",\"0\",\"1\",\"0\",\"0\"],\n",
    "        [\"0\",\"0\",\"0\",\"1\",\"1\"]]\n",
    "\n",
    "print(solution.numIslands(grid))"
   ]
  },
  {
   "cell_type": "code",
   "execution_count": 5,
   "id": "a5c8b382",
   "metadata": {},
   "outputs": [
    {
     "name": "stdout",
     "output_type": "stream",
     "text": [
      "0\n"
     ]
    }
   ],
   "source": [
    "grid = [[\"0\",\"0\",\"0\",\"0\",\"0\"],\n",
    "        [\"0\",\"0\",\"0\",\"0\",\"0\"],\n",
    "        [\"0\",\"0\",\"0\",\"0\",\"0\"],\n",
    "        [\"0\",\"0\",\"0\",\"0\",\"0\"]]\n",
    "\n",
    "print(solution.numIslands(grid))"
   ]
  },
  {
   "cell_type": "code",
   "execution_count": null,
   "id": "806a1540",
   "metadata": {},
   "outputs": [],
   "source": []
  }
 ],
 "metadata": {
  "kernelspec": {
   "display_name": "Python 3 (ipykernel)",
   "language": "python",
   "name": "python3"
  },
  "language_info": {
   "codemirror_mode": {
    "name": "ipython",
    "version": 3
   },
   "file_extension": ".py",
   "mimetype": "text/x-python",
   "name": "python",
   "nbconvert_exporter": "python",
   "pygments_lexer": "ipython3",
   "version": "3.9.12"
  }
 },
 "nbformat": 4,
 "nbformat_minor": 5
}
