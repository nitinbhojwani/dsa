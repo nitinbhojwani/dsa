{
 "cells": [
  {
   "cell_type": "code",
   "execution_count": 1,
   "id": "e8eb3504",
   "metadata": {},
   "outputs": [],
   "source": [
    "from typing import List"
   ]
  },
  {
   "cell_type": "markdown",
   "id": "34b9aac9",
   "metadata": {},
   "source": [
    "## Problem Link\n",
    "https://leetcode.com/problems/rotting-oranges"
   ]
  },
  {
   "cell_type": "code",
   "execution_count": 2,
   "id": "3539cf67",
   "metadata": {},
   "outputs": [],
   "source": [
    "class Solution:\n",
    "    def orangesRotting(self, grid: List[List[int]]) -> int:\n",
    "        queue = []\n",
    "        fresh_count = 0\n",
    "        \n",
    "        num_rows = len(grid)\n",
    "        num_cols = len(grid[0])\n",
    "        result = 0\n",
    "        for i in range(num_rows):\n",
    "            for j in range(num_cols):\n",
    "                if grid[i][j] == 2:\n",
    "                    queue.append((i,j,0))\n",
    "                elif grid[i][j] == 1:\n",
    "                    fresh_count += 1\n",
    "        \n",
    "        while queue:            \n",
    "            i, j, prev_time = queue.pop(0)\n",
    "            result = max(result, prev_time)\n",
    "            for dr, dc in [(0, -1), (0, 1), (-1, 0), (1, 0)]:\n",
    "                r = i + dr\n",
    "                c = j + dc\n",
    "                if 0 <= r < num_rows and 0 <= c < num_cols and grid[r][c] == 1:\n",
    "                    grid[r][c] = 2\n",
    "                    queue.append((r, c, prev_time + 1))\n",
    "                    fresh_count -= 1\n",
    "\n",
    "        return result if fresh_count == 0 else -1"
   ]
  },
  {
   "cell_type": "code",
   "execution_count": 3,
   "id": "619bb3df",
   "metadata": {},
   "outputs": [],
   "source": [
    "solution = Solution()"
   ]
  },
  {
   "cell_type": "code",
   "execution_count": 4,
   "id": "2c8f582a",
   "metadata": {},
   "outputs": [
    {
     "name": "stdout",
     "output_type": "stream",
     "text": [
      "4\n"
     ]
    }
   ],
   "source": [
    "grid = [[2,1,1],[1,1,0],[0,1,1]]\n",
    "print(solution.orangesRotting(grid))"
   ]
  },
  {
   "cell_type": "code",
   "execution_count": 5,
   "id": "1f14ee6e",
   "metadata": {},
   "outputs": [
    {
     "name": "stdout",
     "output_type": "stream",
     "text": [
      "-1\n"
     ]
    }
   ],
   "source": [
    "grid = [[2,1,1],[0,1,1],[1,0,1]]\n",
    "print(solution.orangesRotting(grid))"
   ]
  },
  {
   "cell_type": "code",
   "execution_count": 6,
   "id": "d78e808c",
   "metadata": {},
   "outputs": [
    {
     "name": "stdout",
     "output_type": "stream",
     "text": [
      "0\n"
     ]
    }
   ],
   "source": [
    "grid = [[0,2]]\n",
    "print(solution.orangesRotting(grid))"
   ]
  },
  {
   "cell_type": "code",
   "execution_count": null,
   "id": "89f91378",
   "metadata": {},
   "outputs": [],
   "source": []
  }
 ],
 "metadata": {
  "kernelspec": {
   "display_name": "Python 3 (ipykernel)",
   "language": "python",
   "name": "python3"
  },
  "language_info": {
   "codemirror_mode": {
    "name": "ipython",
    "version": 3
   },
   "file_extension": ".py",
   "mimetype": "text/x-python",
   "name": "python",
   "nbconvert_exporter": "python",
   "pygments_lexer": "ipython3",
   "version": "3.9.12"
  }
 },
 "nbformat": 4,
 "nbformat_minor": 5
}
