{
 "cells": [
  {
   "cell_type": "code",
   "execution_count": 1,
   "metadata": {},
   "outputs": [],
   "source": [
    "class Graph:\n",
    "    '''Graph's Representation using Adjacency Set'''\n",
    "    def __init__(self):\n",
    "        '''initializes the internal data structure to represent the graph'''\n",
    "        self._graph_adj_set = {}\n",
    "    \n",
    "    \n",
    "    def check_edge_exists(self, v1, v2):\n",
    "        '''checks whether an edge exists from v1 to v2'''\n",
    "        return v1 in self._graph_adj_set and v2 in self._graph_adj_set[v1]\n",
    "    \n",
    "    \n",
    "    def get_all_adjacents(self, v):\n",
    "        '''returns set of all the vertices that have an edge from v to themselves'''\n",
    "        if v in self._graph_adj_set:\n",
    "            return self._graph_adj_set[v]\n",
    "        \n",
    "\n",
    "    def add_edge(self, v1, v2):\n",
    "        '''adds an edge from v1 to v2'''\n",
    "        if v1 in self._graph_adj_set:\n",
    "            self._graph_adj_set[v1].add(v2)\n",
    "        else:\n",
    "            self._graph_adj_set[v1] = {v2}\n",
    "\n",
    "    \n",
    "    def remove_edge(self, v1, v2):\n",
    "        '''removes the edge from v1 to v2, if exists'''\n",
    "        if v1 in self._graph_adj_set and v2 in self._graph_adj_set[v1]:\n",
    "            self._graph_adj_set[v1].remove(v2)\n",
    "\n",
    "    \n",
    "    def add_vertex(self, v):\n",
    "        '''adds vertex v to the graph if it doesn\\'t exist already'''\n",
    "        if v not in self._graph_adj_set:\n",
    "            self._graph_adj_set[v] = set()\n"
   ]
  },
  {
   "cell_type": "markdown",
   "metadata": {},
   "source": [
    "<div>\n",
    "<img src=\"img/demo-graph.png\" width=\"300\"/>\n",
    "</div>"
   ]
  },
  {
   "cell_type": "code",
   "execution_count": 2,
   "metadata": {},
   "outputs": [
    {
     "name": "stdout",
     "output_type": "stream",
     "text": [
      "{1: {2, 3}, 2: {4}, 3: {5}, 4: {5}, 5: {2}, 6: set()}\n"
     ]
    }
   ],
   "source": [
    "graph = Graph()\n",
    "\n",
    "graph.add_edge(1, 2)\n",
    "graph.add_edge(1, 3)\n",
    "graph.add_edge(2, 4)\n",
    "graph.add_edge(3, 5)\n",
    "graph.add_edge(4, 5)\n",
    "graph.add_edge(5, 2)\n",
    "\n",
    "# let's add a disconnected vertex\n",
    "graph.add_vertex(6)\n",
    "\n",
    "print(graph._graph_adj_set)"
   ]
  },
  {
   "cell_type": "code",
   "execution_count": 3,
   "metadata": {},
   "outputs": [
    {
     "name": "stdout",
     "output_type": "stream",
     "text": [
      "{1: {3}, 2: {4}, 3: {5}, 4: {5}, 5: {2}, 6: set()}\n",
      "{1: {3}, 2: {4}, 3: {5}, 4: {5}, 5: {2}, 6: set()}\n",
      "{1: {3}, 2: {4}, 3: {5}, 4: {5}, 5: set(), 6: set()}\n"
     ]
    }
   ],
   "source": [
    "graph.remove_edge(1, 2)\n",
    "\n",
    "print(graph._graph_adj_set)\n",
    "\n",
    "graph.remove_edge(6, 1) # this edge doesn't even exist\n",
    "\n",
    "print(graph._graph_adj_set)\n",
    "\n",
    "graph.remove_edge(5, 2) # this is the only edge that starts from 5\n",
    "\n",
    "print(graph._graph_adj_set)"
   ]
  },
  {
   "cell_type": "code",
   "execution_count": 4,
   "metadata": {},
   "outputs": [
    {
     "name": "stdout",
     "output_type": "stream",
     "text": [
      "{3}\n",
      "True\n",
      "False\n"
     ]
    }
   ],
   "source": [
    "print(graph.get_all_adjacents(1)) # should return set pointed by 1 i.e. {3}\n",
    "\n",
    "print(graph.check_edge_exists(1, 3)) # should print True\n",
    "print(graph.check_edge_exists(6, 1)) # should print False"
   ]
  },
  {
   "cell_type": "code",
   "execution_count": null,
   "metadata": {},
   "outputs": [],
   "source": []
  }
 ],
 "metadata": {
  "kernelspec": {
   "display_name": "Python 3",
   "language": "python",
   "name": "python3"
  },
  "language_info": {
   "codemirror_mode": {
    "name": "ipython",
    "version": 3
   },
   "file_extension": ".py",
   "mimetype": "text/x-python",
   "name": "python",
   "nbconvert_exporter": "python",
   "pygments_lexer": "ipython3",
   "version": "3.7.6"
  }
 },
 "nbformat": 4,
 "nbformat_minor": 4
}
