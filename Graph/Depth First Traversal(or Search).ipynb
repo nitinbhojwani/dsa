{
 "cells": [
  {
   "cell_type": "code",
   "execution_count": 1,
   "id": "129c2eab",
   "metadata": {},
   "outputs": [],
   "source": [
    "class Graph:\n",
    "    '''Graph's Representation using Adjacency Set'''\n",
    "    def __init__(self):\n",
    "        '''initializes the internal data structure to represent the graph'''\n",
    "        self._graph_adj_set = {}\n",
    "    \n",
    "    \n",
    "    def check_edge_exists(self, v1, v2):\n",
    "        '''checks whether an edge exists from v1 to v2'''\n",
    "        return v1 in self._graph_adj_set and v2 in self._graph_adj_set[v1]\n",
    "    \n",
    "    \n",
    "    def get_all_adjacents(self, v):\n",
    "        '''returns set of all the vertices that have an edge from v to themselves'''\n",
    "        if v in self._graph_adj_set:\n",
    "            return self._graph_adj_set[v]\n",
    "        \n",
    "\n",
    "    def add_edge(self, v1, v2):\n",
    "        '''adds an edge from v1 to v2'''\n",
    "        if v1 in self._graph_adj_set:\n",
    "            self._graph_adj_set[v1].add(v2)\n",
    "        else:\n",
    "            self._graph_adj_set[v1] = {v2}\n",
    "\n",
    "    \n",
    "    def remove_edge(self, v1, v2):\n",
    "        '''removes the edge from v1 to v2, if exists'''\n",
    "        if v1 in self._graph_adj_set and v2 in self._graph_adj_set[v1]:\n",
    "            self._graph_adj_set[v1].remove(v2)\n",
    "\n",
    "    \n",
    "    def add_vertex(self, v):\n",
    "        '''adds vertex v to the graph if it doesn\\'t exist already'''\n",
    "        if v not in self._graph_adj_set:\n",
    "            self._graph_adj_set[v] = set()\n"
   ]
  },
  {
   "cell_type": "markdown",
   "id": "0366a9ab",
   "metadata": {},
   "source": [
    "<div>\n",
    "<img src=\"img/demo-graph.png\" width=\"300\"/>\n",
    "</div>"
   ]
  },
  {
   "cell_type": "code",
   "execution_count": 4,
   "id": "b85799b7",
   "metadata": {},
   "outputs": [
    {
     "name": "stdout",
     "output_type": "stream",
     "text": [
      "{1: {2, 3}, 2: {4}, 3: {5}, 4: {5}, 5: {2}, 6: set()}\n"
     ]
    }
   ],
   "source": [
    "graph = Graph()\n",
    "\n",
    "graph.add_edge(1, 2)\n",
    "graph.add_edge(1, 3)\n",
    "graph.add_edge(2, 4)\n",
    "graph.add_edge(3, 5)\n",
    "graph.add_edge(4, 5)\n",
    "graph.add_edge(5, 2)\n",
    "\n",
    "# let's add a disconnected vertex\n",
    "graph.add_vertex(6)\n",
    "\n",
    "print(graph._graph_adj_set)"
   ]
  },
  {
   "cell_type": "code",
   "execution_count": 11,
   "id": "f155dcfb",
   "metadata": {},
   "outputs": [],
   "source": [
    "def process(current_node: int):\n",
    "    print(current_node)\n",
    "\n",
    "\n",
    "def depth_first_traversal(graph: Graph, starting_node: int):\n",
    "    stack = [] # use list for stack\n",
    "    visited = set()\n",
    "    \n",
    "    visited.add(starting_node) # mark the node as visited before inserting in stack\n",
    "    stack.append(starting_node)\n",
    "    \n",
    "    while stack:\n",
    "        current_node = stack.pop() # remove from top of stack - last in first out\n",
    "        process(current_node)\n",
    "        neighbours = graph.get_all_adjacents(current_node)\n",
    "        for neighbour in neighbours:\n",
    "            if neighbour not in visited:\n",
    "                visited.add(neighbour)\n",
    "                stack.append(neighbour)"
   ]
  },
  {
   "cell_type": "code",
   "execution_count": 12,
   "id": "bc82a0d3",
   "metadata": {},
   "outputs": [
    {
     "name": "stdout",
     "output_type": "stream",
     "text": [
      "1\n",
      "3\n",
      "5\n",
      "2\n",
      "4\n"
     ]
    }
   ],
   "source": [
    "depth_first_traversal(graph, 1)"
   ]
  },
  {
   "cell_type": "code",
   "execution_count": 13,
   "id": "33b5eb22",
   "metadata": {},
   "outputs": [
    {
     "name": "stdout",
     "output_type": "stream",
     "text": [
      "6\n"
     ]
    }
   ],
   "source": [
    "depth_first_traversal(graph, 6)"
   ]
  },
  {
   "cell_type": "code",
   "execution_count": 14,
   "id": "8f978bcc",
   "metadata": {},
   "outputs": [
    {
     "name": "stdout",
     "output_type": "stream",
     "text": [
      "2\n",
      "4\n",
      "5\n"
     ]
    }
   ],
   "source": [
    "depth_first_traversal(graph, 2)"
   ]
  },
  {
   "cell_type": "code",
   "execution_count": 15,
   "id": "8a7424be",
   "metadata": {},
   "outputs": [
    {
     "name": "stdout",
     "output_type": "stream",
     "text": [
      "3\n",
      "5\n",
      "2\n",
      "4\n"
     ]
    }
   ],
   "source": [
    "depth_first_traversal(graph, 3)"
   ]
  },
  {
   "cell_type": "code",
   "execution_count": null,
   "id": "340daeff",
   "metadata": {},
   "outputs": [],
   "source": []
  }
 ],
 "metadata": {
  "kernelspec": {
   "display_name": "Python 3 (ipykernel)",
   "language": "python",
   "name": "python3"
  },
  "language_info": {
   "codemirror_mode": {
    "name": "ipython",
    "version": 3
   },
   "file_extension": ".py",
   "mimetype": "text/x-python",
   "name": "python",
   "nbconvert_exporter": "python",
   "pygments_lexer": "ipython3",
   "version": "3.9.12"
  }
 },
 "nbformat": 4,
 "nbformat_minor": 5
}
