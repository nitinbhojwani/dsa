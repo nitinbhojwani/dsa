{
 "cells": [
  {
   "cell_type": "markdown",
   "id": "3b2eaf9d",
   "metadata": {},
   "source": [
    "# Problem Statement\n",
    "\n",
    "**Given an array (or list), find the index of a given element e in it. If e is not found, return -1**\n",
    "\n",
    "e.g. \\[1, 2, 5, 6, 3, 4\\] \n",
    "\n",
    "Index of element 1 -> 0\n",
    "\n",
    "Index of element 2 -> 1\n",
    "\n",
    "Index of element 5 -> 2\n",
    "\n",
    "Index of element 6 -> 3\n",
    "\n",
    "Index of element 3 -> 4\n",
    "\n",
    "Index of element 4 -> 5"
   ]
  },
  {
   "cell_type": "markdown",
   "id": "f663848c",
   "metadata": {},
   "source": [
    "## Linear Search\n",
    "\n",
    "Go through each element in the list one by one and see if it matches the element\n"
   ]
  },
  {
   "cell_type": "code",
   "execution_count": null,
   "id": "b2ba8fea",
   "metadata": {},
   "outputs": [],
   "source": [
    "def linear_search(input_list, element):\n",
    "    for idx, curr_element in enumerate(input_list):\n",
    "        if curr_element == element:\n",
    "            return idx\n",
    "    \n",
    "    return -1"
   ]
  },
  {
   "cell_type": "code",
   "execution_count": null,
   "id": "50c40440",
   "metadata": {},
   "outputs": [],
   "source": [
    "# Testing\n",
    "\n",
    "input_list = [1, 2, 5, 6, 3, 4]\n",
    "\n",
    "for idx, element in enumerate(input_list):\n",
    "    res_idx = linear_search(input_list, element)\n",
    "    print(f\"Result Index of {element} is {res_idx}\")\n",
    "    \n",
    "    assert res_idx == idx\n",
    "\n",
    "assert linear_search(input_list, 100) == -1"
   ]
  },
  {
   "cell_type": "markdown",
   "id": "b6ab7e50",
   "metadata": {},
   "source": [
    "### Analysis of Linear Search\n",
    "Time Complexity = O(n)\n",
    "\n",
    "---> traverse the whole array ---> number of comparisons is proportional to the number of elements in array\n",
    "\n",
    "Space Complexity = O(1)\n",
    "\n",
    "---> No additional space required for the algorithm execution, only few variables, the count of which is constant"
   ]
  },
  {
   "cell_type": "markdown",
   "id": "2949c11e",
   "metadata": {},
   "source": [
    "## Binary Search\n",
    "\n",
    "This works only if the list is sorted.\n",
    "e.g. \\[1, 3, 4, 6, 9, 10\\]\n",
    "\n",
    "1. Start from the middle element, assume its index is (mid)\n",
    "\n",
    "\n",
    "2. If middle element is same as the search element, return (mid)\n",
    "   Else if middle element is less than the search element, consider right subarray. Subarray that starts from (mid + 1) till the right end.\n",
    "   Else , consider left subarray. Subarray that ends at (mid - 1) and starts from the left end.\n",
    "   \n",
    "   \n",
    "3. Repeat step 2 till either the element is found or there's no more subarray to consider."
   ]
  },
  {
   "cell_type": "code",
   "execution_count": null,
   "id": "467acbb4",
   "metadata": {},
   "outputs": [],
   "source": [
    "def binary_search(input_list, element):\n",
    "    start_idx = 0\n",
    "    end_idx = len(input_list) - 1\n",
    "    mid = None\n",
    "    \n",
    "    while start_idx <= end_idx:\n",
    "        mid = start_idx + (end_idx - start_idx) // 2\n",
    "        \n",
    "        if input_list[mid] == element:\n",
    "            return mid\n",
    "        elif input_list[mid] < element:\n",
    "            start_idx = mid + 1\n",
    "        else:\n",
    "            end_idx = mid - 1\n",
    "    \n",
    "    return -1"
   ]
  },
  {
   "cell_type": "code",
   "execution_count": null,
   "id": "70741445",
   "metadata": {},
   "outputs": [],
   "source": [
    "# Testing\n",
    "input_list = [1, 3, 4, 6, 9, 10]\n",
    "\n",
    "for idx, element in enumerate(input_list):\n",
    "    res_idx = binary_search(input_list, element)\n",
    "    print(f\"Result Index of {element} is {res_idx}\")\n",
    "    \n",
    "    assert res_idx == idx\n",
    "\n",
    "assert binary_search(input_list, 100) == -1\n"
   ]
  },
  {
   "cell_type": "markdown",
   "id": "5417905d",
   "metadata": {},
   "source": [
    "### Analysis of Binary Search\n",
    "Time Complexity = O(log n)\n",
    "\n",
    "---> every iteration we reduce the candidate elements to half  \n",
    "---> number of comparisons is proportional to the logarithm (with base 2) of the number of elements\n",
    "\n",
    "Space Complexity = O(1)\n",
    "\n",
    "---> No additional space required for the algorithm execution, only few variables, the count of which is constant"
   ]
  },
  {
   "cell_type": "code",
   "execution_count": null,
   "id": "e87d2dcd",
   "metadata": {},
   "outputs": [],
   "source": []
  }
 ],
 "metadata": {
  "kernelspec": {
   "display_name": "Python 3",
   "language": "python",
   "name": "python3"
  },
  "language_info": {
   "codemirror_mode": {
    "name": "ipython",
    "version": 3
   },
   "file_extension": ".py",
   "mimetype": "text/x-python",
   "name": "python",
   "nbconvert_exporter": "python",
   "pygments_lexer": "ipython3",
   "version": "3.8.8"
  }
 },
 "nbformat": 4,
 "nbformat_minor": 5
}
