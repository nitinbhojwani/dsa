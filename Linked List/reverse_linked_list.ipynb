{
 "cells": [
  {
   "cell_type": "code",
   "execution_count": 1,
   "metadata": {},
   "outputs": [],
   "source": [
    "class Node:\n",
    "    def __init__(self, val):\n",
    "        self.val = val\n",
    "        self.next = None"
   ]
  },
  {
   "cell_type": "code",
   "execution_count": 2,
   "metadata": {},
   "outputs": [],
   "source": [
    "# HEAD -> 1 -> 2 -> 3 -> 4 -> None\n",
    "def print_linked_list(head):\n",
    "    curr = head\n",
    "    print('HEAD', end=' ')\n",
    "    while curr is not None:\n",
    "        print('->', curr.val, end=' ')\n",
    "        curr = curr.next\n",
    "    print('->', None)"
   ]
  },
  {
   "cell_type": "code",
   "execution_count": 3,
   "metadata": {},
   "outputs": [],
   "source": [
    "# input - head of linked list\n",
    "# returns - new head of linked list\n",
    "def reverse_linked_list(head):\n",
    "    curr = head\n",
    "    nxt = None\n",
    "    prev = None\n",
    "    \n",
    "    while curr is not None:\n",
    "        nxt = curr.next\n",
    "        curr.next = prev\n",
    "        prev = curr\n",
    "        curr = nxt\n",
    "    \n",
    "    return prev"
   ]
  },
  {
   "cell_type": "code",
   "execution_count": 4,
   "metadata": {},
   "outputs": [
    {
     "name": "stdout",
     "output_type": "stream",
     "text": [
      "HEAD -> 1 -> 2 -> 3 -> 4 -> None\n"
     ]
    }
   ],
   "source": [
    "# 1 - 2 - 3 - 4\n",
    "head = Node(1)\n",
    "head.next = Node(2)\n",
    "head.next.next = Node(3)\n",
    "head.next.next.next = Node(4)\n",
    "\n",
    "print_linked_list(head)"
   ]
  },
  {
   "cell_type": "code",
   "execution_count": 5,
   "metadata": {},
   "outputs": [],
   "source": [
    "head = reverse_linked_list(head)"
   ]
  },
  {
   "cell_type": "code",
   "execution_count": 6,
   "metadata": {},
   "outputs": [
    {
     "name": "stdout",
     "output_type": "stream",
     "text": [
      "HEAD -> 4 -> 3 -> 2 -> 1 -> None\n"
     ]
    }
   ],
   "source": [
    "print_linked_list(head)"
   ]
  },
  {
   "cell_type": "code",
   "execution_count": 7,
   "metadata": {},
   "outputs": [
    {
     "name": "stdout",
     "output_type": "stream",
     "text": [
      "HEAD -> 1 -> None\n",
      "after\n",
      "HEAD -> 1 -> None\n"
     ]
    }
   ],
   "source": [
    "# Edge Case - 1\n",
    "# head -> 1 -> None\n",
    "\n",
    "head = Node(1)\n",
    "print_linked_list(head)\n",
    "head = reverse_linked_list(head)\n",
    "print('after')\n",
    "print_linked_list(head)"
   ]
  },
  {
   "cell_type": "code",
   "execution_count": 8,
   "metadata": {},
   "outputs": [
    {
     "name": "stdout",
     "output_type": "stream",
     "text": [
      "HEAD -> None\n",
      "after\n",
      "HEAD -> None\n"
     ]
    }
   ],
   "source": [
    "# Edge Case - 2\n",
    "# head -> None\n",
    "head = None\n",
    "print_linked_list(head)\n",
    "head = reverse_linked_list(head)\n",
    "print('after')\n",
    "print_linked_list(head)"
   ]
  },
  {
   "cell_type": "code",
   "execution_count": null,
   "metadata": {},
   "outputs": [],
   "source": []
  }
 ],
 "metadata": {
  "kernelspec": {
   "display_name": "Python 3",
   "language": "python",
   "name": "python3"
  },
  "language_info": {
   "codemirror_mode": {
    "name": "ipython",
    "version": 3
   },
   "file_extension": ".py",
   "mimetype": "text/x-python",
   "name": "python",
   "nbconvert_exporter": "python",
   "pygments_lexer": "ipython3",
   "version": "3.7.6"
  }
 },
 "nbformat": 4,
 "nbformat_minor": 4
}
